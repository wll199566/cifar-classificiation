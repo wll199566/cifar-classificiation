{
 "cells": [
  {
   "cell_type": "code",
   "execution_count": 1,
   "id": "b1394adb",
   "metadata": {},
   "outputs": [],
   "source": [
    "# This jupyter notebook is to preprocess data from raw data to splitted train, valid and test set"
   ]
  },
  {
   "cell_type": "code",
   "execution_count": 2,
   "id": "8028e535",
   "metadata": {},
   "outputs": [],
   "source": [
    "import pickle\n",
    "import numpy as np\n",
    "import pandas as pd\n",
    "import re\n",
    "import math\n",
    "from utils import new_dir, read_pkl\n",
    "from sklearn.model_selection import train_test_split\n",
    "from collections import Counter"
   ]
  },
  {
   "cell_type": "code",
   "execution_count": 3,
   "id": "13584922",
   "metadata": {},
   "outputs": [],
   "source": [
    "def convert_image(flatten_img):\n",
    "    \"\"\"\n",
    "    convert image from numpy array of (1, 32*32*1) \n",
    "    into (32, 32, 3) which is H:32, W:32, RGB:3\n",
    "    \"\"\"\n",
    "    # split the channels based on illustration in CIFAR-10 webpage\n",
    "    # add a new channel axis\n",
    "    red_chl = flatten_img[:1024].reshape(32,32)\n",
    "    green_chl = flatten_img[1024:2048].reshape(32,32)\n",
    "    blue_chl = flatten_img[2048:].reshape(32,32)\n",
    "    \n",
    "    # stack the image by the order RGB \n",
    "    # https://stackoverflow.com/questions/46898979/how-to-check-the-channel-order-of-an-image\n",
    "    rgb_img = np.stack([red_chl, green_chl, blue_chl], axis=-1)\n",
    "\n",
    "    return rgb_img"
   ]
  },
  {
   "cell_type": "code",
   "execution_count": 4,
   "id": "8d015933",
   "metadata": {},
   "outputs": [],
   "source": [
    "# step 1: read all data\n",
    "train_valid_imgs = []\n",
    "train_valid_labels = []\n",
    "test_imgs = []\n",
    "test_labels = []"
   ]
  },
  {
   "cell_type": "code",
   "execution_count": 5,
   "id": "f0cd4993",
   "metadata": {},
   "outputs": [],
   "source": [
    "# train valid \n",
    "for i in range(1, 6):\n",
    "    # read in the batch data\n",
    "    data_batch = read_pkl(f\"./data/data_batch_{i}\")\n",
    "    for i in range(len(data_batch[\"labels\"])):\n",
    "        train_valid_imgs.append(convert_image(data_batch[\"data\"][i, :]))\n",
    "        train_valid_labels.append(data_batch[\"labels\"][i])"
   ]
  },
  {
   "cell_type": "code",
   "execution_count": 6,
   "id": "8632f8bb",
   "metadata": {},
   "outputs": [
    {
     "data": {
      "text/plain": [
       "(50000, 50000)"
      ]
     },
     "execution_count": 6,
     "metadata": {},
     "output_type": "execute_result"
    }
   ],
   "source": [
    "len(train_valid_labels), len(train_valid_imgs)"
   ]
  },
  {
   "cell_type": "code",
   "execution_count": 7,
   "id": "f7e6fa4d",
   "metadata": {},
   "outputs": [],
   "source": [
    "# test \n",
    "test_batch = read_pkl(\"./data/test_batch\")\n",
    "for i in range(len(test_batch[\"labels\"])):\n",
    "    test_imgs.append(convert_image(test_batch[\"data\"][i, :]))\n",
    "    test_labels.append(test_batch[\"labels\"])"
   ]
  },
  {
   "cell_type": "code",
   "execution_count": 8,
   "id": "967b6d79",
   "metadata": {},
   "outputs": [
    {
     "data": {
      "text/plain": [
       "(10000, 10000)"
      ]
     },
     "execution_count": 8,
     "metadata": {},
     "output_type": "execute_result"
    }
   ],
   "source": [
    "len(test_labels), len(test_imgs)"
   ]
  },
  {
   "cell_type": "code",
   "execution_count": 9,
   "id": "d9d25c94",
   "metadata": {},
   "outputs": [],
   "source": [
    "# split train and validation set\n",
    "X_train, X_valid, y_train, y_valid = train_test_split(train_valid_imgs, train_valid_labels, test_size=0.1, random_state=1234)"
   ]
  },
  {
   "cell_type": "code",
   "execution_count": 10,
   "id": "cc514c90",
   "metadata": {},
   "outputs": [
    {
     "data": {
      "text/plain": [
       "(45000, 5000, 45000, 5000)"
      ]
     },
     "execution_count": 10,
     "metadata": {},
     "output_type": "execute_result"
    }
   ],
   "source": [
    "len(X_train), len(X_valid), len(y_train), len(y_valid)"
   ]
  },
  {
   "cell_type": "code",
   "execution_count": 11,
   "id": "74462a0a",
   "metadata": {},
   "outputs": [],
   "source": [
    "# zip them together\n",
    "train_set = list(zip(X_train, y_train))\n",
    "valid_set = list(zip(X_valid, y_valid))\n",
    "test_set = list(zip(test_imgs, test_labels))"
   ]
  },
  {
   "cell_type": "code",
   "execution_count": 12,
   "id": "3025ca63",
   "metadata": {},
   "outputs": [
    {
     "name": "stdout",
     "output_type": "stream",
     "text": [
      "./processed_data created!\n"
     ]
    }
   ],
   "source": [
    "# write into files\n",
    "new_dir(\"./processed_data\")\n",
    "\n",
    "with open(\"./processed_data/train_set.pkl\", \"wb\") as fout:\n",
    "    pickle.dump(train_set, fout)\n",
    "with open(\"./processed_data/valid_set.pkl\", \"wb\") as fout:\n",
    "    pickle.dump(valid_set, fout)\n",
    "with open(\"./processed_data/test_set.pkl\", \"wb\") as fout:\n",
    "    pickle.dump(test_set, fout)    "
   ]
  },
  {
   "cell_type": "code",
   "execution_count": 13,
   "id": "39cbeefc",
   "metadata": {},
   "outputs": [
    {
     "data": {
      "text/plain": [
       "Counter({2: 4505,\n",
       "         0: 4520,\n",
       "         8: 4516,\n",
       "         1: 4475,\n",
       "         6: 4471,\n",
       "         7: 4521,\n",
       "         3: 4480,\n",
       "         5: 4529,\n",
       "         9: 4472,\n",
       "         4: 4511})"
      ]
     },
     "execution_count": 13,
     "metadata": {},
     "output_type": "execute_result"
    }
   ],
   "source": [
    "# take a look at the label distribution of the training set\n",
    "Counter(y_train)"
   ]
  },
  {
   "cell_type": "code",
   "execution_count": 14,
   "id": "e0eb5502",
   "metadata": {},
   "outputs": [],
   "source": [
    "# almost the same!"
   ]
  }
 ],
 "metadata": {
  "kernelspec": {
   "display_name": "Python 3",
   "language": "python",
   "name": "python3"
  },
  "language_info": {
   "codemirror_mode": {
    "name": "ipython",
    "version": 3
   },
   "file_extension": ".py",
   "mimetype": "text/x-python",
   "name": "python",
   "nbconvert_exporter": "python",
   "pygments_lexer": "ipython3",
   "version": "3.8.8"
  }
 },
 "nbformat": 4,
 "nbformat_minor": 5
}
