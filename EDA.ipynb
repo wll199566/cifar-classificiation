{
 "cells": [
  {
   "cell_type": "code",
   "execution_count": 1,
   "id": "95362944",
   "metadata": {},
   "outputs": [],
   "source": [
    "# This jupyter notebook is to explore the raw and preprocessed data \n",
    "# the raw data was downloaded at https://www.cs.toronto.edu/~kriz/cifar.html"
   ]
  },
  {
   "cell_type": "code",
   "execution_count": 1,
   "id": "aa526802",
   "metadata": {},
   "outputs": [],
   "source": [
    "import numpy as np\n",
    "import pandas as pd\n",
    "import pickle\n",
    "import math\n",
    "import re"
   ]
  },
  {
   "cell_type": "code",
   "execution_count": 2,
   "id": "54a008ab",
   "metadata": {},
   "outputs": [
    {
     "name": "stdout",
     "output_type": "stream",
     "text": [
      "batches.meta  data_batch_2  data_batch_4  readme.html\r\n",
      "data_batch_1  data_batch_3  data_batch_5  test_batch\r\n"
     ]
    }
   ],
   "source": [
    "!ls ./data "
   ]
  },
  {
   "cell_type": "code",
   "execution_count": 3,
   "id": "9409d934",
   "metadata": {},
   "outputs": [],
   "source": [
    "# data_path\n",
    "data_path = \"./data\""
   ]
  },
  {
   "cell_type": "code",
   "execution_count": 21,
   "id": "07465a66",
   "metadata": {},
   "outputs": [],
   "source": [
    "# read in test data\n",
    "with open(f\"{data_path}/data_batch_1\", \"rb\") as fin:\n",
    "    data_batch_1_dict = pickle.load(fin, encoding=\"latin1\")"
   ]
  },
  {
   "cell_type": "code",
   "execution_count": 22,
   "id": "0cda1d97",
   "metadata": {},
   "outputs": [
    {
     "data": {
      "text/plain": [
       "dict_keys(['batch_label', 'labels', 'data', 'filenames'])"
      ]
     },
     "execution_count": 22,
     "metadata": {},
     "output_type": "execute_result"
    }
   ],
   "source": [
    "data_batch_1_dict.keys()"
   ]
  },
  {
   "cell_type": "code",
   "execution_count": 23,
   "id": "4ff8e00b",
   "metadata": {},
   "outputs": [
    {
     "data": {
      "text/plain": [
       "'training batch 1 of 5'"
      ]
     },
     "execution_count": 23,
     "metadata": {},
     "output_type": "execute_result"
    }
   ],
   "source": [
    "data_batch_1_dict[\"batch_label\"]"
   ]
  },
  {
   "cell_type": "code",
   "execution_count": 24,
   "id": "aaa3e0b5",
   "metadata": {},
   "outputs": [
    {
     "data": {
      "text/plain": [
       "(6,\n",
       " array([ 59,  43,  50, ..., 140,  84,  72], dtype=uint8),\n",
       " 'leptodactylus_pentadactylus_s_000004.png')"
      ]
     },
     "execution_count": 24,
     "metadata": {},
     "output_type": "execute_result"
    }
   ],
   "source": [
    "data_batch_1_dict[\"labels\"][0], data_batch_1_dict[\"data\"][0], data_batch_1_dict[\"filenames\"][0]"
   ]
  },
  {
   "cell_type": "code",
   "execution_count": 25,
   "id": "c1b44927",
   "metadata": {},
   "outputs": [],
   "source": [
    "with open(f\"{data_path}/batches.meta\", \"rb\") as fin:\n",
    "    label_index_map = pickle.load(fin, encoding=\"latin1\")"
   ]
  },
  {
   "cell_type": "code",
   "execution_count": 26,
   "id": "5f86c676",
   "metadata": {},
   "outputs": [],
   "source": [
    "# get the dictionary {index: name}\n",
    "label_index_map = {idx : label for idx, label in enumerate(label_index_map[\"label_names\"])}"
   ]
  },
  {
   "cell_type": "code",
   "execution_count": 27,
   "id": "8b5550ed",
   "metadata": {},
   "outputs": [
    {
     "data": {
      "text/plain": [
       "{0: 'airplane',\n",
       " 1: 'automobile',\n",
       " 2: 'bird',\n",
       " 3: 'cat',\n",
       " 4: 'deer',\n",
       " 5: 'dog',\n",
       " 6: 'frog',\n",
       " 7: 'horse',\n",
       " 8: 'ship',\n",
       " 9: 'truck'}"
      ]
     },
     "execution_count": 27,
     "metadata": {},
     "output_type": "execute_result"
    }
   ],
   "source": [
    "label_index_map"
   ]
  },
  {
   "cell_type": "code",
   "execution_count": 18,
   "id": "b3a31692",
   "metadata": {},
   "outputs": [],
   "source": [
    "from PIL import Image"
   ]
  },
  {
   "cell_type": "code",
   "execution_count": 13,
   "id": "1539d3d0",
   "metadata": {},
   "outputs": [],
   "source": [
    "# visualize image function\n",
    "def visualize(img_batch, img_index):\n",
    "    \"\"\"\n",
    "    Visualize given image in the batch\n",
    "    Args:\n",
    "        -img_batch: the batched images\n",
    "        -img_index: which images you want to visualize\n",
    "    \"\"\"\n",
    "    # get the label\n",
    "    label = img_batch[\"labels\"][img_index]\n",
    "    print(f\"{img_index}-th image in the batch: {label_index_map[label]}\")\n",
    "    \n",
    "    # get the image\n",
    "    img_raw = img_batch[\"data\"][img_index]\n",
    "    \n",
    "    # split the channels based on illustration in CIFAR-10 webpage\n",
    "    # add a new channel axis\n",
    "    red_chl = img_raw[:1024].reshape(32,32)#[..., np.newaxis]\n",
    "    green_chl = img_raw[1024:2048].reshape(32,32)#[..., np.newaxis]\n",
    "    blue_chl = img_raw[2048:].reshape(32,32)#[..., np.newaxis]\n",
    "    \n",
    "    # stack the image by the order RGB \n",
    "    # https://stackoverflow.com/questions/46898979/how-to-check-the-channel-order-of-an-image\n",
    "    pil_img = np.stack([red_chl, green_chl, blue_chl], axis=-1)\n",
    "    #print(pil_img)\n",
    "    #print(pil_img.shape)\n",
    "    \n",
    "    # show the image\n",
    "    pil_img = Image.fromarray(pil_img)\n",
    "    \n",
    "    return pil_img"
   ]
  },
  {
   "cell_type": "code",
   "execution_count": 14,
   "id": "e7048c1b",
   "metadata": {},
   "outputs": [
    {
     "name": "stdout",
     "output_type": "stream",
     "text": [
      "16-th image in the batch: truck\n"
     ]
    },
    {
     "data": {
      "image/png": "[encoded data removed]",
      "text/plain": [
       "<PIL.Image.Image image mode=RGB size=32x32 at 0x2AAAE277B250>"
      ]
     },
     "execution_count": 14,
     "metadata": {},
     "output_type": "execute_result"
    }
   ],
   "source": [
    "visualize(data_batch_1_dict, 16)"
   ]
  },
  {
   "cell_type": "markdown",
   "id": "0ff5a5d7",
   "metadata": {},
   "source": [
    "Take a look at how many images are in each batch"
   ]
  },
  {
   "cell_type": "code",
   "execution_count": 15,
   "id": "7e08edee",
   "metadata": {},
   "outputs": [],
   "source": [
    "# take a look at two things (1) how many images are there in 5 total batches (2) what is their label distribution\n",
    "def read_pkl(file_name):\n",
    "    with open(file_name, \"rb\") as fin:\n",
    "        pkl_file = pickle.load(fin, encoding=\"latin1\")\n",
    "    return pkl_file    "
   ]
  },
  {
   "cell_type": "code",
   "execution_count": 16,
   "id": "91d3f105",
   "metadata": {},
   "outputs": [],
   "source": [
    "# get all labels from all data_batch_XX\n",
    "all_labels = [read_pkl(f\"./data/data_batch_{i}\")[\"labels\"] for i in range(1,6)]"
   ]
  },
  {
   "cell_type": "code",
   "execution_count": 17,
   "id": "c7340c0e",
   "metadata": {},
   "outputs": [],
   "source": [
    "# reduce list of list\n",
    "from functools import reduce\n",
    "\n",
    "all_labels = reduce(lambda a, b: a+b, all_labels)"
   ]
  },
  {
   "cell_type": "code",
   "execution_count": 18,
   "id": "911a24ff",
   "metadata": {},
   "outputs": [
    {
     "data": {
      "text/plain": [
       "50000"
      ]
     },
     "execution_count": 18,
     "metadata": {},
     "output_type": "execute_result"
    }
   ],
   "source": [
    "len(all_labels)"
   ]
  },
  {
   "cell_type": "code",
   "execution_count": 19,
   "id": "8a2a08d7",
   "metadata": {},
   "outputs": [],
   "source": [
    "# check the label distribution\n",
    "from collections import Counter"
   ]
  },
  {
   "cell_type": "code",
   "execution_count": 20,
   "id": "97e2416c",
   "metadata": {},
   "outputs": [
    {
     "data": {
      "text/plain": [
       "Counter({6: 5000,\n",
       "         9: 5000,\n",
       "         4: 5000,\n",
       "         1: 5000,\n",
       "         2: 5000,\n",
       "         7: 5000,\n",
       "         8: 5000,\n",
       "         3: 5000,\n",
       "         5: 5000,\n",
       "         0: 5000})"
      ]
     },
     "execution_count": 20,
     "metadata": {},
     "output_type": "execute_result"
    }
   ],
   "source": [
    "Counter(all_labels)"
   ]
  },
  {
   "cell_type": "code",
   "execution_count": 21,
   "id": "0b379a2a",
   "metadata": {},
   "outputs": [],
   "source": [
    "# so they are balanced dataset and the label index is from 0"
   ]
  },
  {
   "cell_type": "code",
   "execution_count": 22,
   "id": "c753c8c0",
   "metadata": {},
   "outputs": [],
   "source": [
    "### explore for the processed data"
   ]
  },
  {
   "cell_type": "code",
   "execution_count": 6,
   "id": "645d4507",
   "metadata": {},
   "outputs": [],
   "source": [
    "# read in the processed train_set, valid_set and test_set\n",
    "with open(\"./processed_data/train_set.pkl\", \"rb\") as fin:\n",
    "    train_set = pickle.load(fin) \n",
    "with open(\"./processed_data/valid_set.pkl\", \"rb\") as fin:\n",
    "    valid_set = pickle.load(fin)\n",
    "with open(\"./processed_data/test_set.pkl\", \"rb\") as fin:\n",
    "    test_set = pickle.load(fin)    "
   ]
  },
  {
   "cell_type": "code",
   "execution_count": 10,
   "id": "8ed6eee0",
   "metadata": {},
   "outputs": [],
   "source": [
    "train_labels = [pair[1] for pair in train_set]\n",
    "valid_labels = [pair[1] for pair in valid_set]"
   ]
  },
  {
   "cell_type": "code",
   "execution_count": 13,
   "id": "51303fc4",
   "metadata": {},
   "outputs": [
    {
     "data": {
      "text/plain": [
       "Counter({7: 3621,\n",
       "         5: 3577,\n",
       "         8: 3596,\n",
       "         3: 3592,\n",
       "         0: 3583,\n",
       "         9: 3589,\n",
       "         6: 3619,\n",
       "         2: 3638,\n",
       "         1: 3579,\n",
       "         4: 3606})"
      ]
     },
     "execution_count": 13,
     "metadata": {},
     "output_type": "execute_result"
    }
   ],
   "source": [
    "from collections import Counter\n",
    "Counter(train_labels)"
   ]
  },
  {
   "cell_type": "code",
   "execution_count": 14,
   "id": "f556b96b",
   "metadata": {},
   "outputs": [
    {
     "data": {
      "text/plain": [
       "Counter({1: 407,\n",
       "         3: 392,\n",
       "         8: 401,\n",
       "         7: 402,\n",
       "         9: 389,\n",
       "         2: 410,\n",
       "         6: 401,\n",
       "         4: 397,\n",
       "         0: 403,\n",
       "         5: 398})"
      ]
     },
     "execution_count": 14,
     "metadata": {},
     "output_type": "execute_result"
    }
   ],
   "source": [
    "Counter(valid_labels)"
   ]
  },
  {
   "cell_type": "code",
   "execution_count": 15,
   "id": "a520e0ce",
   "metadata": {},
   "outputs": [
    {
     "data": {
      "text/plain": [
       "(36000, 4000, 10000)"
      ]
     },
     "execution_count": 15,
     "metadata": {},
     "output_type": "execute_result"
    }
   ],
   "source": [
    "len(train_set), len(valid_set), len(test_set)"
   ]
  },
  {
   "cell_type": "code",
   "execution_count": 30,
   "id": "65bcd841",
   "metadata": {},
   "outputs": [],
   "source": [
    "from matplotlib.pyplot import imshow"
   ]
  },
  {
   "cell_type": "code",
   "execution_count": 35,
   "id": "98c4a55d",
   "metadata": {},
   "outputs": [
    {
     "data": {
      "text/plain": [
       "(<matplotlib.image.AxesImage at 0x2aaae5a31fd0>, 'cat')"
      ]
     },
     "execution_count": 35,
     "metadata": {},
     "output_type": "execute_result"
    },
    {
     "data": {
      "image/png": "[encoded data removed]",
      "text/plain": [
       "<Figure size 432x288 with 1 Axes>"
      ]
     },
     "metadata": {
      "needs_background": "light"
     },
     "output_type": "display_data"
    }
   ],
   "source": [
    "#visualize one of them\n",
    "index = 7\n",
    "imshow(Image.fromarray(train_set[index][0])), label_index_map[train_set[index][1]]"
   ]
  },
  {
   "cell_type": "code",
   "execution_count": null,
   "id": "92105837",
   "metadata": {},
   "outputs": [],
   "source": []
  }
 ],
 "metadata": {
  "interpreter": {
   "hash": "916dbcbb3f70747c44a77c7bcd40155683ae19c65e1c03b4aa3499c5328201f1"
  },
  "kernelspec": {
   "display_name": "Python 3",
   "language": "python",
   "name": "python3"
  },
  "language_info": {
   "codemirror_mode": {
    "name": "ipython",
    "version": 3
   },
   "file_extension": ".py",
   "mimetype": "text/x-python",
   "name": "python",
   "nbconvert_exporter": "python",
   "pygments_lexer": "ipython3",
   "version": "3.8.8"
  }
 },
 "nbformat": 4,
 "nbformat_minor": 5
}
